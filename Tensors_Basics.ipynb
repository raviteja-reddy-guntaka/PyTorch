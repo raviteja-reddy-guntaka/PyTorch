{
 "cells": [
  {
   "cell_type": "code",
   "execution_count": 2,
   "id": "004d61ad-2a29-487f-9655-421b2d3686be",
   "metadata": {},
   "outputs": [
    {
     "name": "stdout",
     "output_type": "stream",
     "text": [
      "tensor([0., 0.])\n",
      "torch.float32\n",
      "tensor([0., 0.])\n",
      "torch.float32\n",
      "tensor([1., 1., 1.])\n",
      "torch.float32\n",
      "tensor([[[0.8501, 0.5142, 0.4487],\n",
      "         [0.5966, 0.4780, 0.8342]],\n",
      "\n",
      "        [[0.5907, 0.6324, 0.4199],\n",
      "         [0.9981, 0.3717, 0.7171]]])\n",
      "torch.float32\n"
     ]
    }
   ],
   "source": [
    "import torch\n",
    "\n",
    "x = torch.empty(2)\n",
    "print(x)\n",
    "print(x.dtype)\n",
    "\n",
    "x = torch.zeros(2, dtype=torch.float32)\n",
    "print(x)\n",
    "print(x.dtype)\n",
    "\n",
    "x = torch.ones(3)\n",
    "print(x)\n",
    "print(x.dtype)\n",
    "\n",
    "x = torch.rand(2, 2, 3)\n",
    "print(x)\n",
    "print(x.dtype)"
   ]
  },
  {
   "cell_type": "code",
   "execution_count": 3,
   "id": "e4ab45be-56c0-4e02-9236-5b2aa96c532e",
   "metadata": {},
   "outputs": [
    {
     "name": "stdout",
     "output_type": "stream",
     "text": [
      "tensor([[0.5194, 0.3954],\n",
      "        [0.5858, 0.6623]])\n",
      "tensor([[0.1336, 0.5975],\n",
      "        [0.4557, 0.8208]])\n",
      "tensor([[0.6529, 0.9930],\n",
      "        [1.0415, 1.4831]])\n",
      "tensor([[0.3391, 0.3927],\n",
      "        [0.6101, 0.9823]])\n",
      "tensor([[0.6529, 0.9930],\n",
      "        [1.0415, 1.4831]])\n",
      "1.483107566833496\n",
      "tensor([[0.6529, 0.9930, 1.0415, 1.4831]])\n",
      "tensor([[0.0006]])\n",
      "0.0005705952644348145\n"
     ]
    }
   ],
   "source": [
    "x = torch.rand(2, 2)\n",
    "y = torch.rand(2, 2)\n",
    "\n",
    "print(x)\n",
    "print(y)\n",
    "\n",
    "y.add_(x)\n",
    "print(y)\n",
    "\n",
    "y.mul_(x)\n",
    "print(y)\n",
    "\n",
    "y.div_(x)\n",
    "print(y)\n",
    "print(y[1, 1].item())\n",
    "\n",
    "z = y.view(-1, 4)\n",
    "print(z)\n",
    "\n",
    "a = torch.rand(1, 1)\n",
    "print(a)\n",
    "print(a.item())"
   ]
  },
  {
   "cell_type": "code",
   "execution_count": 9,
   "id": "753412e1-90d8-4b0a-ad82-b0b42e625c87",
   "metadata": {},
   "outputs": [
    {
     "name": "stdout",
     "output_type": "stream",
     "text": [
      "tensor([1., 1., 1., 1., 1.])\n",
      "torch.float32\n",
      "[1. 1. 1. 1. 1.]\n",
      "tensor([2., 2., 2., 2., 2.])\n",
      "[2. 2. 2. 2. 2.]\n",
      "[1. 1. 1. 1. 1.]\n",
      "tensor([1., 1., 1., 1., 1.], dtype=torch.float64)\n",
      "[2. 2. 2. 2. 2.]\n",
      "tensor([2., 2., 2., 2., 2.], dtype=torch.float64)\n"
     ]
    }
   ],
   "source": [
    "import numpy as np\n",
    "\n",
    "a = torch.ones(5)\n",
    "print(a)\n",
    "print(a.dtype)\n",
    "b = a.numpy()\n",
    "print(b)\n",
    "\n",
    "# If the tensor is on CPU and not on GPU, modifying one woulf modify the other\n",
    "a.add_(1)\n",
    "print(a)\n",
    "print(b)\n",
    "\n",
    "c = np.ones(5)\n",
    "print(c)\n",
    "d = torch.from_numpy(c)\n",
    "print(d)\n",
    "\n",
    "c += 1\n",
    "print(c)\n",
    "print(d)"
   ]
  },
  {
   "cell_type": "code",
   "execution_count": 14,
   "id": "ff03c5c3-ec8b-4cd7-b2de-0940ac2fafd7",
   "metadata": {},
   "outputs": [
    {
     "name": "stdout",
     "output_type": "stream",
     "text": [
      "tensor([2., 2., 2., 2., 2.])\n",
      "[2. 2. 2. 2. 2.]\n"
     ]
    }
   ],
   "source": [
    "import torch\n",
    "import numpy as np\n",
    "\n",
    "if torch.cuda.is_available():\n",
    "    local_cude_device = torch.device(\"cuda\")\n",
    "    # creates tensor on GPU\n",
    "    x = torch.ones(5, device=local_cude_device)\n",
    "\n",
    "    # Create and move to GPU\n",
    "    y = torch.ones(5)\n",
    "    y = y.to(local_cude_device)\n",
    "\n",
    "    # Tensor created on GPU\n",
    "    z = x + y\n",
    "    # Note: Numpy can only handle CPU tensors. Cannot convert GPU tensor to numpy\n",
    "    z = z.to(\"cpu\")\n",
    "    print(z)\n",
    "    print(z.numpy())"
   ]
  },
  {
   "cell_type": "code",
   "execution_count": 17,
   "id": "f01f5891-8195-4b17-9cb3-31451f2f24db",
   "metadata": {},
   "outputs": [
    {
     "name": "stdout",
     "output_type": "stream",
     "text": [
      "tensor([1., 1., 1., 1., 1.], requires_grad=True)\n"
     ]
    }
   ],
   "source": [
    "# This tells PyTorch that it needs to calculate gradients for this tensor later in your optimization steps\n",
    "# Whenever you have a variable that you need to optimize, you will have to set this to True\n",
    "p = torch.ones(5, requires_grad=True)\n",
    "print(p)"
   ]
  }
 ],
 "metadata": {
  "kernelspec": {
   "display_name": "Python 3 (ipykernel)",
   "language": "python",
   "name": "python3"
  },
  "language_info": {
   "codemirror_mode": {
    "name": "ipython",
    "version": 3
   },
   "file_extension": ".py",
   "mimetype": "text/x-python",
   "name": "python",
   "nbconvert_exporter": "python",
   "pygments_lexer": "ipython3",
   "version": "3.12.5"
  }
 },
 "nbformat": 4,
 "nbformat_minor": 5
}
